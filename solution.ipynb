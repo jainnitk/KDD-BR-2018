{
 "cells": [
  {
   "cell_type": "markdown",
   "metadata": {},
   "source": [
    "<h1 style=\"text-align: center\">Kaggle KDD BR Competition 2018 finalist solution</h1>\n",
    "<br>\n",
    "<p style=\"text-align: center\">\n",
    "    <a href=\"https://www.kaggle.com/rafjaa\">Rafael Alencar</a>¹, \n",
    "    <a href=\"https://www.kaggle.com/jpmdik\">João Paulo de Melo</a>¹, \n",
    "    <a href=\"https://www.kaggle.com/guilhermedomith\">Guilherme Domith</a>¹\n",
    "</p>\n",
    "\n",
    "\n",
    "<p style=\"text-align: center\">\n",
    "    ¹ Federal Institute of the Southeast of Minas Gerais, Campus Barbacena\n",
    "</p>"
   ]
  },
  {
   "cell_type": "markdown",
   "metadata": {},
   "source": [
    "## Libraries"
   ]
  },
  {
   "cell_type": "code",
   "execution_count": 1,
   "metadata": {},
   "outputs": [],
   "source": [
    "import datetime\n",
    "\n",
    "import numpy as np\n",
    "import pandas as pd\n",
    "\n",
    "from sklearn import metrics\n",
    "\n",
    "import seaborn as sns\n",
    "import matplotlib.pyplot as plt"
   ]
  },
  {
   "cell_type": "markdown",
   "metadata": {},
   "source": [
    "  "
   ]
  },
  {
   "cell_type": "markdown",
   "metadata": {},
   "source": [
    "## Model\n",
    "\n",
    "The small size of the dataset brings as a challenge a great chance of overfitting, and does not make it very suitable for Deep Learning techniques.\n",
    "\n",
    "Thus, we chose to use the XGBoost model, widely adopted in Kaggle competitions and with a good trade-off between accuracy and training time.\n",
    "\n",
    "In addition, the model has hyperparameters for overfitting control, such as maximum tree depth and gamma regularization."
   ]
  },
  {
   "cell_type": "code",
   "execution_count": 2,
   "metadata": {},
   "outputs": [],
   "source": [
    "from xgboost import XGBRegressor"
   ]
  },
  {
   "cell_type": "markdown",
   "metadata": {},
   "source": [
    "  "
   ]
  },
  {
   "cell_type": "markdown",
   "metadata": {},
   "source": [
    "## Dataset"
   ]
  },
  {
   "cell_type": "code",
   "execution_count": 3,
   "metadata": {},
   "outputs": [
    {
     "data": {
      "text/html": [
       "<div>\n",
       "<style scoped>\n",
       "    .dataframe tbody tr th:only-of-type {\n",
       "        vertical-align: middle;\n",
       "    }\n",
       "\n",
       "    .dataframe tbody tr th {\n",
       "        vertical-align: top;\n",
       "    }\n",
       "\n",
       "    .dataframe thead th {\n",
       "        text-align: right;\n",
       "    }\n",
       "</style>\n",
       "<table border=\"1\" class=\"dataframe\">\n",
       "  <thead>\n",
       "    <tr style=\"text-align: right;\">\n",
       "      <th></th>\n",
       "      <th>Id</th>\n",
       "      <th>field</th>\n",
       "      <th>age</th>\n",
       "      <th>type</th>\n",
       "      <th>harvest_year</th>\n",
       "      <th>harvest_month</th>\n",
       "      <th>production</th>\n",
       "    </tr>\n",
       "  </thead>\n",
       "  <tbody>\n",
       "    <tr>\n",
       "      <th>0</th>\n",
       "      <td>0</td>\n",
       "      <td>0</td>\n",
       "      <td>19</td>\n",
       "      <td>5</td>\n",
       "      <td>2004</td>\n",
       "      <td>1</td>\n",
       "      <td>0.064071</td>\n",
       "    </tr>\n",
       "    <tr>\n",
       "      <th>1</th>\n",
       "      <td>1</td>\n",
       "      <td>0</td>\n",
       "      <td>19</td>\n",
       "      <td>5</td>\n",
       "      <td>2004</td>\n",
       "      <td>2</td>\n",
       "      <td>0.047658</td>\n",
       "    </tr>\n",
       "    <tr>\n",
       "      <th>2</th>\n",
       "      <td>2</td>\n",
       "      <td>0</td>\n",
       "      <td>19</td>\n",
       "      <td>5</td>\n",
       "      <td>2004</td>\n",
       "      <td>3</td>\n",
       "      <td>0.016866</td>\n",
       "    </tr>\n",
       "    <tr>\n",
       "      <th>3</th>\n",
       "      <td>3</td>\n",
       "      <td>0</td>\n",
       "      <td>19</td>\n",
       "      <td>5</td>\n",
       "      <td>2004</td>\n",
       "      <td>4</td>\n",
       "      <td>0.025525</td>\n",
       "    </tr>\n",
       "    <tr>\n",
       "      <th>4</th>\n",
       "      <td>4</td>\n",
       "      <td>0</td>\n",
       "      <td>19</td>\n",
       "      <td>5</td>\n",
       "      <td>2004</td>\n",
       "      <td>5</td>\n",
       "      <td>0.047690</td>\n",
       "    </tr>\n",
       "  </tbody>\n",
       "</table>\n",
       "</div>"
      ],
      "text/plain": [
       "   Id  field  age  type  harvest_year  harvest_month  production\n",
       "0   0      0   19     5          2004              1    0.064071\n",
       "1   1      0   19     5          2004              2    0.047658\n",
       "2   2      0   19     5          2004              3    0.016866\n",
       "3   3      0   19     5          2004              4    0.025525\n",
       "4   4      0   19     5          2004              5    0.047690"
      ]
     },
     "execution_count": 3,
     "metadata": {},
     "output_type": "execute_result"
    }
   ],
   "source": [
    "train = pd.read_csv('./data/train.csv')\n",
    "train.head()"
   ]
  },
  {
   "cell_type": "code",
   "execution_count": 4,
   "metadata": {},
   "outputs": [
    {
     "data": {
      "text/html": [
       "<div>\n",
       "<style scoped>\n",
       "    .dataframe tbody tr th:only-of-type {\n",
       "        vertical-align: middle;\n",
       "    }\n",
       "\n",
       "    .dataframe tbody tr th {\n",
       "        vertical-align: top;\n",
       "    }\n",
       "\n",
       "    .dataframe thead th {\n",
       "        text-align: right;\n",
       "    }\n",
       "</style>\n",
       "<table border=\"1\" class=\"dataframe\">\n",
       "  <thead>\n",
       "    <tr style=\"text-align: right;\">\n",
       "      <th></th>\n",
       "      <th>Id</th>\n",
       "      <th>field</th>\n",
       "      <th>age</th>\n",
       "      <th>type</th>\n",
       "      <th>harvest_year</th>\n",
       "      <th>harvest_month</th>\n",
       "    </tr>\n",
       "  </thead>\n",
       "  <tbody>\n",
       "    <tr>\n",
       "      <th>0</th>\n",
       "      <td>5243</td>\n",
       "      <td>0</td>\n",
       "      <td>27</td>\n",
       "      <td>5</td>\n",
       "      <td>2012</td>\n",
       "      <td>1</td>\n",
       "    </tr>\n",
       "    <tr>\n",
       "      <th>1</th>\n",
       "      <td>5244</td>\n",
       "      <td>0</td>\n",
       "      <td>27</td>\n",
       "      <td>5</td>\n",
       "      <td>2012</td>\n",
       "      <td>2</td>\n",
       "    </tr>\n",
       "    <tr>\n",
       "      <th>2</th>\n",
       "      <td>5245</td>\n",
       "      <td>0</td>\n",
       "      <td>27</td>\n",
       "      <td>5</td>\n",
       "      <td>2012</td>\n",
       "      <td>3</td>\n",
       "    </tr>\n",
       "    <tr>\n",
       "      <th>3</th>\n",
       "      <td>5246</td>\n",
       "      <td>0</td>\n",
       "      <td>27</td>\n",
       "      <td>5</td>\n",
       "      <td>2012</td>\n",
       "      <td>4</td>\n",
       "    </tr>\n",
       "    <tr>\n",
       "      <th>4</th>\n",
       "      <td>5247</td>\n",
       "      <td>0</td>\n",
       "      <td>27</td>\n",
       "      <td>5</td>\n",
       "      <td>2012</td>\n",
       "      <td>5</td>\n",
       "    </tr>\n",
       "  </tbody>\n",
       "</table>\n",
       "</div>"
      ],
      "text/plain": [
       "     Id  field  age  type  harvest_year  harvest_month\n",
       "0  5243      0   27     5          2012              1\n",
       "1  5244      0   27     5          2012              2\n",
       "2  5245      0   27     5          2012              3\n",
       "3  5246      0   27     5          2012              4\n",
       "4  5247      0   27     5          2012              5"
      ]
     },
     "execution_count": 4,
     "metadata": {},
     "output_type": "execute_result"
    }
   ],
   "source": [
    "test = pd.read_csv('./data/test.csv')\n",
    "test.head()"
   ]
  },
  {
   "cell_type": "markdown",
   "metadata": {},
   "source": [
    "  "
   ]
  },
  {
   "cell_type": "markdown",
   "metadata": {},
   "source": [
    "## Additional files\n",
    "\n",
    "We performed some experiments using soil data <code>soil_data.csv</code> and atmospheric data <code>field*.csv</code>, like:\n",
    "\n",
    "- Feature correlation\n",
    "- Feature importance\n",
    "- Sequential feature selection\n",
    "- Dimensionality reduction\n",
    "\n",
    "Combinations of these complementary data to training and test set introduced more noise than signal.\n",
    "\n",
    "Therefore, they were not used."
   ]
  },
  {
   "cell_type": "markdown",
   "metadata": {},
   "source": [
    "  "
   ]
  },
  {
   "cell_type": "markdown",
   "metadata": {},
   "source": [
    "## Data transformation\n",
    "\n",
    "Once the use of the XGBoost model was defined, no transformations were applied to the data such scaling (like <code>StandardScaler</code>) or categorical transforms (like <code>OneHotEncoder</code>), since tree-based models do not usually benefit from these techniques."
   ]
  },
  {
   "cell_type": "markdown",
   "metadata": {},
   "source": [
    "  "
   ]
  },
  {
   "cell_type": "markdown",
   "metadata": {},
   "source": [
    "## Feature selection\n",
    "\n",
    "We do not use the <code>harvest_year</code> column, since the year values present in the training set are different from those in the test set:"
   ]
  },
  {
   "cell_type": "code",
   "execution_count": 5,
   "metadata": {},
   "outputs": [
    {
     "data": {
      "text/plain": [
       "array([2004, 2005, 2006, 2007, 2008, 2009, 2010, 2011])"
      ]
     },
     "execution_count": 5,
     "metadata": {},
     "output_type": "execute_result"
    }
   ],
   "source": [
    "train['harvest_year'].unique()"
   ]
  },
  {
   "cell_type": "code",
   "execution_count": 6,
   "metadata": {},
   "outputs": [
    {
     "data": {
      "text/plain": [
       "array([2012, 2013, 2014, 2015, 2016, 2017])"
      ]
     },
     "execution_count": 6,
     "metadata": {},
     "output_type": "execute_result"
    }
   ],
   "source": [
    "test['harvest_year'].unique()"
   ]
  },
  {
   "cell_type": "markdown",
   "metadata": {},
   "source": [
    "  "
   ]
  },
  {
   "cell_type": "code",
   "execution_count": 7,
   "metadata": {},
   "outputs": [],
   "source": [
    "FEATURES =  ['field', 'age', 'type', 'harvest_month']"
   ]
  },
  {
   "cell_type": "markdown",
   "metadata": {},
   "source": [
    "  "
   ]
  },
  {
   "cell_type": "markdown",
   "metadata": {},
   "source": [
    "## Local validation\n",
    "\n",
    "By the temporal characteristics of the data, we used a validation based on folds segmented by year:"
   ]
  },
  {
   "cell_type": "markdown",
   "metadata": {},
   "source": [
    "<img src=\"./data/folds.jpg\">"
   ]
  },
  {
   "cell_type": "code",
   "execution_count": 8,
   "metadata": {},
   "outputs": [],
   "source": [
    "def validation(model, train, features, transform=1):\n",
    "    scores = []\n",
    "    \n",
    "    train['production'] = train['production'] ** transform\n",
    "    \n",
    "    for i, year in enumerate(sorted(train['harvest_year'].unique())):\n",
    "        X_train = train[train['harvest_year'] != year][features].values\n",
    "        y_train = train[train['harvest_year'] != year]['production'].values\n",
    "        \n",
    "        X_test = train[train['harvest_year'] == year][features].values\n",
    "        y_test = train[train['harvest_year'] == year]['production'].values ** (1 / transform)\n",
    "        \n",
    "        model.fit(X_train, y_train)\n",
    "        \n",
    "        pred = model.predict(X_test)\n",
    "                \n",
    "        score = metrics.mean_absolute_error(\n",
    "            y_test,\n",
    "            pred ** (1 / transform)\n",
    "        )\n",
    "        \n",
    "        scores.append(score)        \n",
    "        print(year, '-', score)\n",
    "    \n",
    "    print('\\nMean score:', np.mean(scores))"
   ]
  },
  {
   "cell_type": "code",
   "execution_count": 9,
   "metadata": {},
   "outputs": [
    {
     "name": "stdout",
     "output_type": "stream",
     "text": [
      "2004 - 0.08249160642854028\n",
      "2005 - 0.07848157736198758\n",
      "2006 - 0.07712762225183364\n",
      "2007 - 0.07531411923053549\n",
      "2008 - 0.0728327367800164\n",
      "2009 - 0.08269558166787827\n",
      "2010 - 0.06935449545319247\n",
      "2011 - 0.08904272886528519\n",
      "\n",
      "Mean score: 0.07841755850490867\n"
     ]
    }
   ],
   "source": [
    "validation(\n",
    "    XGBRegressor(random_state=1), \n",
    "    train.copy(),\n",
    "    FEATURES\n",
    ")"
   ]
  },
  {
   "cell_type": "markdown",
   "metadata": {},
   "source": [
    "  "
   ]
  },
  {
   "cell_type": "markdown",
   "metadata": {},
   "source": [
    "## Target transformation (production)\n",
    "\n",
    "The data to be predicted in the regression have a very different probability distribution from the normal distribution, which can impact the accuracy of the model."
   ]
  },
  {
   "cell_type": "code",
   "execution_count": 10,
   "metadata": {},
   "outputs": [
    {
     "data": {
      "image/png": "[encoded data removed]",
      "text/plain": [
       "<Figure size 1080x360 with 1 Axes>"
      ]
     },
     "metadata": {},
     "output_type": "display_data"
    }
   ],
   "source": [
    "f, ax = plt.subplots(figsize=(15, 5))\n",
    "sns.set(style='whitegrid')\n",
    "sns.distplot(train['production'], hist=False, kde_kws={'shade': True});"
   ]
  },
  {
   "cell_type": "markdown",
   "metadata": {},
   "source": [
    "In this way, we try to apply some transformations in the target, like logarithm and exponentiation.\n",
    "\n",
    "Empirically we get the exponentiation value 0.1 for best results in local validation and public leaderboard."
   ]
  },
  {
   "cell_type": "code",
   "execution_count": 11,
   "metadata": {},
   "outputs": [
    {
     "name": "stdout",
     "output_type": "stream",
     "text": [
      "2004 - 0.08013765508872801\n",
      "2005 - 0.07646328994999022\n",
      "2006 - 0.07674614040385808\n",
      "2007 - 0.06890207450161724\n",
      "2008 - 0.07473298182648404\n",
      "2009 - 0.07974534607549538\n",
      "2010 - 0.08147277405718546\n",
      "2011 - 0.08518701471378082\n",
      "\n",
      "Mean score: 0.0779234095771424\n"
     ]
    }
   ],
   "source": [
    "validation(\n",
    "    XGBRegressor(random_state=1), \n",
    "    train.copy(), \n",
    "    FEATURES,\n",
    "    transform=0.1\n",
    ")"
   ]
  },
  {
   "cell_type": "markdown",
   "metadata": {},
   "source": [
    "  "
   ]
  },
  {
   "cell_type": "markdown",
   "metadata": {},
   "source": [
    "## Harvest years selection\n",
    "\n",
    "The first two years in training set (2004 and 2005) have production values inconsistent with the others:"
   ]
  },
  {
   "cell_type": "code",
   "execution_count": 12,
   "metadata": {},
   "outputs": [
    {
     "data": {
      "image/png": "[encoded data removed]",
      "text/plain": [
       "<Figure size 1080x360 with 1 Axes>"
      ]
     },
     "metadata": {},
     "output_type": "display_data"
    }
   ],
   "source": [
    "train['year'] = train.apply(\n",
    "    lambda row: datetime.date(year=int(row['harvest_year']), month=int(row['harvest_month']), day=15), \n",
    "    axis=1\n",
    ").values\n",
    "\n",
    "f, ax = plt.subplots(figsize=(15, 5))\n",
    "sns.lineplot(x='year', y='production', data=train, linewidth=1);"
   ]
  },
  {
   "cell_type": "markdown",
   "metadata": {},
   "source": [
    "In this way, they were removed from training, to avoid outliers."
   ]
  },
  {
   "cell_type": "code",
   "execution_count": 13,
   "metadata": {},
   "outputs": [],
   "source": [
    "train = train[train.harvest_year >= 2006]"
   ]
  },
  {
   "cell_type": "code",
   "execution_count": 14,
   "metadata": {},
   "outputs": [
    {
     "name": "stdout",
     "output_type": "stream",
     "text": [
      "2006 - 0.07145274958028677\n",
      "2007 - 0.06731243211366637\n",
      "2008 - 0.07323848637402784\n",
      "2009 - 0.07808036292493216\n",
      "2010 - 0.0891875156926276\n",
      "2011 - 0.08582580219257781\n",
      "\n",
      "Mean score: 0.07751622481301976\n"
     ]
    }
   ],
   "source": [
    "validation(\n",
    "    XGBRegressor(random_state=1), \n",
    "    train.copy(), \n",
    "    FEATURES,\n",
    "    transform=0.1\n",
    ")"
   ]
  },
  {
   "cell_type": "markdown",
   "metadata": {},
   "source": [
    "  "
   ]
  },
  {
   "cell_type": "code",
   "execution_count": 15,
   "metadata": {},
   "outputs": [],
   "source": [
    "train['production'] = train['production'] ** 0.1"
   ]
  },
  {
   "cell_type": "markdown",
   "metadata": {},
   "source": [
    "  "
   ]
  },
  {
   "cell_type": "markdown",
   "metadata": {},
   "source": [
    "## Model 1\n",
    "\n",
    "XGBRegressor, with <code>max_depth=3</code> to avoid overfitting:"
   ]
  },
  {
   "cell_type": "code",
   "execution_count": 16,
   "metadata": {},
   "outputs": [],
   "source": [
    "m = XGBRegressor(\n",
    "    n_jobs=-1, \n",
    "    max_depth=3, \n",
    "    random_state=1\n",
    ")\n",
    "\n",
    "m.fit(\n",
    "    train[FEATURES],\n",
    "    train['production']\n",
    ")\n",
    "\n",
    "pred_1 = m.predict(test[FEATURES])"
   ]
  },
  {
   "cell_type": "markdown",
   "metadata": {},
   "source": [
    "  "
   ]
  },
  {
   "cell_type": "markdown",
   "metadata": {},
   "source": [
    "## Model 2\n",
    "\n",
    "XGBRegressor, with <code>gamma=0.1</code>, requiring a minimum loss reduction to make a further partition on a leaf node of the tree, and making the model more conservative."
   ]
  },
  {
   "cell_type": "code",
   "execution_count": 17,
   "metadata": {},
   "outputs": [],
   "source": [
    "m = XGBRegressor(\n",
    "    n_jobs=-1, \n",
    "    max_depth=3, \n",
    "    gamma=0.1, \n",
    "    random_state=1\n",
    ")\n",
    "\n",
    "m.fit(\n",
    "    train[FEATURES],\n",
    "    train['production']\n",
    ")\n",
    "\n",
    "pred_2 = m.predict(test[FEATURES])"
   ]
  },
  {
   "cell_type": "markdown",
   "metadata": {},
   "source": [
    "  "
   ]
  },
  {
   "cell_type": "markdown",
   "metadata": {},
   "source": [
    "##  Average of predictions \n",
    "\n",
    "The combination of the predictions of the two models increases the overall score, and acts as an extra help against overfitting."
   ]
  },
  {
   "cell_type": "code",
   "execution_count": 18,
   "metadata": {
    "scrolled": true
   },
   "outputs": [
    {
     "data": {
      "text/html": [
       "<div>\n",
       "<style scoped>\n",
       "    .dataframe tbody tr th:only-of-type {\n",
       "        vertical-align: middle;\n",
       "    }\n",
       "\n",
       "    .dataframe tbody tr th {\n",
       "        vertical-align: top;\n",
       "    }\n",
       "\n",
       "    .dataframe thead th {\n",
       "        text-align: right;\n",
       "    }\n",
       "</style>\n",
       "<table border=\"1\" class=\"dataframe\">\n",
       "  <thead>\n",
       "    <tr style=\"text-align: right;\">\n",
       "      <th></th>\n",
       "      <th>Id</th>\n",
       "      <th>best</th>\n",
       "    </tr>\n",
       "  </thead>\n",
       "  <tbody>\n",
       "    <tr>\n",
       "      <th>0</th>\n",
       "      <td>5243</td>\n",
       "      <td>0.764729</td>\n",
       "    </tr>\n",
       "    <tr>\n",
       "      <th>1</th>\n",
       "      <td>5244</td>\n",
       "      <td>0.728357</td>\n",
       "    </tr>\n",
       "    <tr>\n",
       "      <th>2</th>\n",
       "      <td>5245</td>\n",
       "      <td>0.720708</td>\n",
       "    </tr>\n",
       "    <tr>\n",
       "      <th>3</th>\n",
       "      <td>5246</td>\n",
       "      <td>0.720301</td>\n",
       "    </tr>\n",
       "    <tr>\n",
       "      <th>4</th>\n",
       "      <td>5247</td>\n",
       "      <td>0.721155</td>\n",
       "    </tr>\n",
       "  </tbody>\n",
       "</table>\n",
       "</div>"
      ],
      "text/plain": [
       "     Id      best\n",
       "0  5243  0.764729\n",
       "1  5244  0.728357\n",
       "2  5245  0.720708\n",
       "3  5246  0.720301\n",
       "4  5247  0.721155"
      ]
     },
     "execution_count": 18,
     "metadata": {},
     "output_type": "execute_result"
    }
   ],
   "source": [
    "df_submission = pd.DataFrame()\n",
    "df_submission['Id'] = test['Id'].values\n",
    "df_submission['best'] = (pred_1 + pred_2) / 2\n",
    "\n",
    "df_submission.head()"
   ]
  },
  {
   "cell_type": "markdown",
   "metadata": {},
   "source": [
    "  "
   ]
  },
  {
   "cell_type": "markdown",
   "metadata": {},
   "source": [
    "## Dealing unknow types\n",
    "\n",
    "The test set have two values in the column <code>type</code> that do not appear in the train set: <code>-1</code> and <code>7</code>."
   ]
  },
  {
   "cell_type": "code",
   "execution_count": 19,
   "metadata": {},
   "outputs": [
    {
     "data": {
      "text/plain": [
       "([0, 1, 2, 3, 4, 5, 6], [-1, 0, 1, 2, 3, 4, 5, 6, 7])"
      ]
     },
     "execution_count": 19,
     "metadata": {},
     "output_type": "execute_result"
    }
   ],
   "source": [
    "sorted(train.type.unique()), sorted(test.type.unique())"
   ]
  },
  {
   "cell_type": "code",
   "execution_count": 20,
   "metadata": {},
   "outputs": [
    {
     "data": {
      "text/plain": [
       "{-1, 7}"
      ]
     },
     "execution_count": 20,
     "metadata": {},
     "output_type": "execute_result"
    }
   ],
   "source": [
    "set(test.type.unique()) - set(train.type.unique())"
   ]
  },
  {
   "cell_type": "markdown",
   "metadata": {},
   "source": [
    "Because the models did not see these values during training, they will not be able to make an adequate prediction.\n",
    "\n",
    "Thus, a better estimate for predictions where <code>type</code> is <code>-1</code> or <code>7</code> is to use the average value of production for harvests with similar characteristics:"
   ]
  },
  {
   "cell_type": "code",
   "execution_count": 21,
   "metadata": {},
   "outputs": [],
   "source": [
    "def mean_predict(row):\n",
    "    AGE_RANGE = 20\n",
    "\n",
    "    similar = train[\n",
    "        (train['field'] == row['field']) & \n",
    "        (train['type'] == row['type']) & \n",
    "        (train['harvest_month'] == row['harvest_month']) & \n",
    "        (train['age'] >= row['age'] - AGE_RANGE) &\n",
    "        (train['age'] <= row['age'] + AGE_RANGE)\n",
    "    ]['production']\n",
    "    \n",
    "    if similar.shape[0] != 0:\n",
    "        return similar.mean()\n",
    "    \n",
    "\n",
    "    # When row['type'] == 7 or row['type'] == -1\n",
    "    return train[\n",
    "            (train['field'] == row['field']) & \n",
    "            (train['harvest_month'] == row['harvest_month']) & \n",
    "            (train['age'] >= row['age'] - AGE_RANGE) &\n",
    "            (train['age'] <= row['age'] + AGE_RANGE)\n",
    "        ]['production'].mean()"
   ]
  },
  {
   "cell_type": "markdown",
   "metadata": {},
   "source": [
    "We've created a new column with this average prediction:"
   ]
  },
  {
   "cell_type": "code",
   "execution_count": 22,
   "metadata": {},
   "outputs": [
    {
     "data": {
      "text/html": [
       "<div>\n",
       "<style scoped>\n",
       "    .dataframe tbody tr th:only-of-type {\n",
       "        vertical-align: middle;\n",
       "    }\n",
       "\n",
       "    .dataframe tbody tr th {\n",
       "        vertical-align: top;\n",
       "    }\n",
       "\n",
       "    .dataframe thead th {\n",
       "        text-align: right;\n",
       "    }\n",
       "</style>\n",
       "<table border=\"1\" class=\"dataframe\">\n",
       "  <thead>\n",
       "    <tr style=\"text-align: right;\">\n",
       "      <th></th>\n",
       "      <th>Id</th>\n",
       "      <th>best</th>\n",
       "      <th>mean</th>\n",
       "    </tr>\n",
       "  </thead>\n",
       "  <tbody>\n",
       "    <tr>\n",
       "      <th>0</th>\n",
       "      <td>5243</td>\n",
       "      <td>0.764729</td>\n",
       "      <td>0.780892</td>\n",
       "    </tr>\n",
       "    <tr>\n",
       "      <th>1</th>\n",
       "      <td>5244</td>\n",
       "      <td>0.728357</td>\n",
       "      <td>0.753050</td>\n",
       "    </tr>\n",
       "    <tr>\n",
       "      <th>2</th>\n",
       "      <td>5245</td>\n",
       "      <td>0.720708</td>\n",
       "      <td>0.757387</td>\n",
       "    </tr>\n",
       "    <tr>\n",
       "      <th>3</th>\n",
       "      <td>5246</td>\n",
       "      <td>0.720301</td>\n",
       "      <td>0.739678</td>\n",
       "    </tr>\n",
       "    <tr>\n",
       "      <th>4</th>\n",
       "      <td>5247</td>\n",
       "      <td>0.721155</td>\n",
       "      <td>0.753678</td>\n",
       "    </tr>\n",
       "  </tbody>\n",
       "</table>\n",
       "</div>"
      ],
      "text/plain": [
       "     Id      best      mean\n",
       "0  5243  0.764729  0.780892\n",
       "1  5244  0.728357  0.753050\n",
       "2  5245  0.720708  0.757387\n",
       "3  5246  0.720301  0.739678\n",
       "4  5247  0.721155  0.753678"
      ]
     },
     "execution_count": 22,
     "metadata": {},
     "output_type": "execute_result"
    }
   ],
   "source": [
    "df_submission['mean'] = test.apply(mean_predict, axis=1)\n",
    "df_submission.head()"
   ]
  },
  {
   "cell_type": "markdown",
   "metadata": {},
   "source": [
    "Now we generate the final prediction, using the average value for lines with unknown <code>type</code> values:"
   ]
  },
  {
   "cell_type": "code",
   "execution_count": 23,
   "metadata": {},
   "outputs": [
    {
     "data": {
      "text/html": [
       "<div>\n",
       "<style scoped>\n",
       "    .dataframe tbody tr th:only-of-type {\n",
       "        vertical-align: middle;\n",
       "    }\n",
       "\n",
       "    .dataframe tbody tr th {\n",
       "        vertical-align: top;\n",
       "    }\n",
       "\n",
       "    .dataframe thead th {\n",
       "        text-align: right;\n",
       "    }\n",
       "</style>\n",
       "<table border=\"1\" class=\"dataframe\">\n",
       "  <thead>\n",
       "    <tr style=\"text-align: right;\">\n",
       "      <th></th>\n",
       "      <th>Id</th>\n",
       "      <th>production</th>\n",
       "    </tr>\n",
       "  </thead>\n",
       "  <tbody>\n",
       "    <tr>\n",
       "      <th>0</th>\n",
       "      <td>5243</td>\n",
       "      <td>0.764729</td>\n",
       "    </tr>\n",
       "    <tr>\n",
       "      <th>1</th>\n",
       "      <td>5244</td>\n",
       "      <td>0.728357</td>\n",
       "    </tr>\n",
       "    <tr>\n",
       "      <th>2</th>\n",
       "      <td>5245</td>\n",
       "      <td>0.720708</td>\n",
       "    </tr>\n",
       "    <tr>\n",
       "      <th>3</th>\n",
       "      <td>5246</td>\n",
       "      <td>0.720301</td>\n",
       "    </tr>\n",
       "    <tr>\n",
       "      <th>4</th>\n",
       "      <td>5247</td>\n",
       "      <td>0.721155</td>\n",
       "    </tr>\n",
       "  </tbody>\n",
       "</table>\n",
       "</div>"
      ],
      "text/plain": [
       "     Id  production\n",
       "0  5243    0.764729\n",
       "1  5244    0.728357\n",
       "2  5245    0.720708\n",
       "3  5246    0.720301\n",
       "4  5247    0.721155"
      ]
     },
     "execution_count": 23,
     "metadata": {},
     "output_type": "execute_result"
    }
   ],
   "source": [
    "df_submission['type'] = test['type'].values\n",
    "\n",
    "def seleciona(row):\n",
    "    if row['type'] == -1 or row['type'] == 7:\n",
    "        return row['mean']\n",
    "    return row['best']\n",
    "\n",
    "df_submission['production'] = df_submission.apply(seleciona, axis=1).values\n",
    "\n",
    "del df_submission['best'], df_submission['mean'], df_submission['type']\n",
    "\n",
    "df_submission.head()"
   ]
  },
  {
   "cell_type": "markdown",
   "metadata": {},
   "source": [
    "  "
   ]
  },
  {
   "cell_type": "markdown",
   "metadata": {},
   "source": [
    "## Inverse target transformation\n",
    "\n",
    "The <code>production</code> values, previously elevated to <code>0.1</code>, are now transformed back to their original distribution, being raised to <code>1 / 0.1</code>:"
   ]
  },
  {
   "cell_type": "code",
   "execution_count": 24,
   "metadata": {},
   "outputs": [
    {
     "data": {
      "text/html": [
       "<div>\n",
       "<style scoped>\n",
       "    .dataframe tbody tr th:only-of-type {\n",
       "        vertical-align: middle;\n",
       "    }\n",
       "\n",
       "    .dataframe tbody tr th {\n",
       "        vertical-align: top;\n",
       "    }\n",
       "\n",
       "    .dataframe thead th {\n",
       "        text-align: right;\n",
       "    }\n",
       "</style>\n",
       "<table border=\"1\" class=\"dataframe\">\n",
       "  <thead>\n",
       "    <tr style=\"text-align: right;\">\n",
       "      <th></th>\n",
       "      <th>Id</th>\n",
       "      <th>production</th>\n",
       "    </tr>\n",
       "  </thead>\n",
       "  <tbody>\n",
       "    <tr>\n",
       "      <th>0</th>\n",
       "      <td>5243</td>\n",
       "      <td>0.068403</td>\n",
       "    </tr>\n",
       "    <tr>\n",
       "      <th>1</th>\n",
       "      <td>5244</td>\n",
       "      <td>0.042019</td>\n",
       "    </tr>\n",
       "    <tr>\n",
       "      <th>2</th>\n",
       "      <td>5245</td>\n",
       "      <td>0.037809</td>\n",
       "    </tr>\n",
       "    <tr>\n",
       "      <th>3</th>\n",
       "      <td>5246</td>\n",
       "      <td>0.037596</td>\n",
       "    </tr>\n",
       "    <tr>\n",
       "      <th>4</th>\n",
       "      <td>5247</td>\n",
       "      <td>0.038044</td>\n",
       "    </tr>\n",
       "  </tbody>\n",
       "</table>\n",
       "</div>"
      ],
      "text/plain": [
       "     Id  production\n",
       "0  5243    0.068403\n",
       "1  5244    0.042019\n",
       "2  5245    0.037809\n",
       "3  5246    0.037596\n",
       "4  5247    0.038044"
      ]
     },
     "execution_count": 24,
     "metadata": {},
     "output_type": "execute_result"
    }
   ],
   "source": [
    "df_submission['production'] = df_submission['production'] ** 10\n",
    "df_submission.head()"
   ]
  },
  {
   "cell_type": "markdown",
   "metadata": {},
   "source": [
    "  "
   ]
  },
  {
   "cell_type": "markdown",
   "metadata": {},
   "source": [
    "## Final submission"
   ]
  },
  {
   "cell_type": "code",
   "execution_count": 25,
   "metadata": {},
   "outputs": [],
   "source": [
    "df_submission.to_csv('submission.csv', index=False)"
   ]
  }
 ],
 "metadata": {
  "kernelspec": {
   "display_name": "Python 3",
   "language": "python",
   "name": "python3"
  },
  "language_info": {
   "codemirror_mode": {
    "name": "ipython",
    "version": 3
   },
   "file_extension": ".py",
   "mimetype": "text/x-python",
   "name": "python",
   "nbconvert_exporter": "python",
   "pygments_lexer": "ipython3",
   "version": "3.6.4"
  }
 },
 "nbformat": 4,
 "nbformat_minor": 2
}
